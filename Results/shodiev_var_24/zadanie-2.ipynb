{
 "cells": [
  {
   "cell_type": "code",
   "execution_count": 1,
   "metadata": {},
   "outputs": [],
   "source": [
    "import pandas as pd\n",
    "\n",
    "def calculate_coefficient(N,x):\n",
    "    a=(x**3)/3\n",
    "    for n in range(N):\n",
    "        nomerator = (-1) * x**4 *(4*n+3)\n",
    "        denominator = (4*n+7) * (2*n+2) * (2*n+3)\n",
    "        c = nomerator/denominator\n",
    "        a = a * c\n",
    "    return a\n",
    "\n",
    "\n",
    "def datasdn(x,precision):\n",
    "    list = [] # массив коэффициентов\n",
    "    term = 1\n",
    "    sum_1 = 0\n",
    "    sum_2 = 0\n",
    "    n = -1\n",
    "    while abs(term) >= precision:\n",
    "        n += 1\n",
    "        term = calculate_coefficient(n,x)\n",
    "        list.append(term)\n",
    "        if n == 100:\n",
    "            break\n",
    "    for i in range(n):\n",
    "        sum_1 += list[i]\n",
    "\n",
    "    for i in range(n-1):\n",
    "        for j in range(n-1-i):\n",
    "            if list[j] >list[j+1]:\n",
    "                list[j],list[j+1] = list[j+1],list[j]\n",
    "\n",
    "    for i in range(n):\n",
    "        sum_2 += list[i]\n",
    "    \n",
    "    result = ['{:.15f}'.format(x),'{:.15f}'.format(n),'{:.15f}'.format(sum_1),'{:.15f}'.format(sum_2)]\n",
    "    return result\n",
    "\n",
    "data = pd.DataFrame(columns=['x_i','n','sum_1','sum_2'])\n",
    "\n",
    "precision=10**(-8)\n",
    "a = -10\n",
    "b = 0\n",
    "d = (b-a)/100\n",
    "x = a\n",
    "while x<=b:\n",
    "    data.loc[len(data)] = datasdn(x,precision)\n",
    "    x += d\n",
    "data['sum_1']=data['sum_1'].astype(float)\n",
    "data['sum_2']=data['sum_2'].astype(float)\n",
    "data.to_csv('data.csv')"
   ]
  }
 ],
 "metadata": {
  "kernelspec": {
   "display_name": "Python 3",
   "language": "python",
   "name": "python3"
  },
  "language_info": {
   "codemirror_mode": {
    "name": "ipython",
    "version": 3
   },
   "file_extension": ".py",
   "mimetype": "text/x-python",
   "name": "python",
   "nbconvert_exporter": "python",
   "pygments_lexer": "ipython3",
   "version": "3.11.5"
  }
 },
 "nbformat": 4,
 "nbformat_minor": 2
}
