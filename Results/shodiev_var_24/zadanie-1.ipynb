{
 "cells": [
  {
   "cell_type": "code",
   "execution_count": 1,
   "metadata": {},
   "outputs": [],
   "source": [
    "from math import asinh\n",
    "\n",
    "# точная сумма\n",
    "def exact_sum(x):\n",
    "    return x * asinh(1/x)\n",
    "\n",
    "\n",
    "def calculate_coefficient(N,x):\n",
    "    a=1\n",
    "    for i in range(N):\n",
    "        nomerator = (-1) * (2*i+1)**2 * (2*i+2) * x**(-2)\n",
    "        denominator = 4 * (2*i + 3) * (i+1)**2\n",
    "        c = nomerator/denominator\n",
    "        a = a * c\n",
    "    return a\n",
    "\n",
    "# Наивное суммированые \n",
    "def partial_sum(N,x):\n",
    "    result = 0\n",
    "    for n in range(N):\n",
    "        result += calculate_coefficient(n,x)\n",
    "    return result\n",
    "\n",
    "# Поиск n\n",
    "def find_n(x,precision):\n",
    "    n = 0\n",
    "    while abs(calculate_coefficient(n+1,x)) > precision:\n",
    "        n += 1\n",
    "    return n\n",
    "\n",
    "# Сумма по алгоритму Кэхена\n",
    "def Kahan_sum(N,x):\n",
    "    sum = 0.0\n",
    "    c = 0.0   # compensation\n",
    "    for n in range(N):\n",
    "        y = calculate_coefficient(n,x) - c\n",
    "        t = sum + y\n",
    "        c = (t - sum) - y\n",
    "        sum = t\n",
    "    return sum\n",
    "\n",
    "# Сумма по возрастанию слагаемых\n",
    "def increasing_sum(n,x):\n",
    "    a=[]\n",
    "    for i in range(n):\n",
    "        a.append(calculate_coefficient(i,x))\n",
    "    summ=0\n",
    "    for i in range(n - 1):\n",
    "        for j in range(n - 1 - i):\n",
    "            if a[j] > a[j + 1]:\n",
    "                a[j],a[j+1] = a[j+1],a[j]\n",
    "\n",
    "    for i in range(n):\n",
    "        summ+=a[i]\n",
    "    return summ"
   ]
  },
  {
   "cell_type": "markdown",
   "metadata": {},
   "source": [
    "Для первой точки"
   ]
  },
  {
   "cell_type": "code",
   "execution_count": 2,
   "metadata": {},
   "outputs": [
    {
     "name": "stdout",
     "output_type": "stream",
     "text": [
      "Количество слагаемых n: 2\n",
      "exact_sum_1   : 0.999983334083289\n",
      "naive_sum_1   : 0.999983333333333\n",
      "increas_sum_1 : 0.999983333333333\n",
      "Kahan_sum_1   : 0.999983333333333\n"
     ]
    }
   ],
   "source": [
    "x1 = 100\n",
    "n1 = find_n(x1,10**(-12))\n",
    "print(\"Количество слагаемых n:\", n1)\n",
    "print(f\"exact_sum_1   : {'{:.15f}'.format(exact_sum(x1))}\")\n",
    "print(f\"naive_sum_1   : {'{:.15f}'.format(partial_sum(n1,x1))}\")\n",
    "print(f\"increas_sum_1 : {'{:.15f}'.format(increasing_sum(n1,x1))}\")\n",
    "print(f\"Kahan_sum_1   : {'{:.15f}'.format(Kahan_sum(n1,x1))}\")"
   ]
  },
  {
   "cell_type": "code",
   "execution_count": 3,
   "metadata": {},
   "outputs": [
    {
     "name": "stdout",
     "output_type": "stream",
     "text": [
      "Отклонение от точного значения : 7.499552090450834e-10\n"
     ]
    }
   ],
   "source": [
    "print(\"Отклонение от точного значения :\", abs(exact_sum(x1)-partial_sum(n1,x1)))"
   ]
  },
  {
   "cell_type": "markdown",
   "metadata": {},
   "source": [
    "Для второй точки"
   ]
  },
  {
   "cell_type": "code",
   "execution_count": 4,
   "metadata": {},
   "outputs": [
    {
     "name": "stdout",
     "output_type": "stream",
     "text": [
      "Количество слагаемых n: 92\n",
      "exact_sum_2    : 0.898741039614203\n",
      "naive_sum_2    : 0.898741039613530\n",
      "increas_sum_2  : 0.898741039613530\n",
      "Kahan_sum_2    : 0.898741039613530\n"
     ]
    }
   ],
   "source": [
    "x2 = 10/9\n",
    "n2 = find_n(x2,10**(-12))\n",
    "print(\"Количество слагаемых n:\", n2)\n",
    "print(f\"exact_sum_2    : {'{:.15f}'.format(exact_sum(x2))}\")\n",
    "print(f\"naive_sum_2    : {'{:.15f}'.format(partial_sum(n2,x2))}\")\n",
    "print(f\"increas_sum_2  : {'{:.15f}'.format(increasing_sum(n2,x2))}\")\n",
    "print(f\"Kahan_sum_2    : {'{:.15f}'.format(Kahan_sum(n2,x2))}\")"
   ]
  },
  {
   "cell_type": "code",
   "execution_count": 5,
   "metadata": {},
   "outputs": [
    {
     "name": "stdout",
     "output_type": "stream",
     "text": [
      "Отклонение от точного значения : 6.723510637129948e-13\n"
     ]
    }
   ],
   "source": [
    "print(\"Отклонение от точного значения :\", abs(exact_sum(x2)-partial_sum(n2,x2)))"
   ]
  }
 ],
 "metadata": {
  "kernelspec": {
   "display_name": "Python 3",
   "language": "python",
   "name": "python3"
  },
  "language_info": {
   "codemirror_mode": {
    "name": "ipython",
    "version": 3
   },
   "file_extension": ".py",
   "mimetype": "text/x-python",
   "name": "python",
   "nbconvert_exporter": "python",
   "pygments_lexer": "ipython3",
   "version": "3.11.5"
  }
 },
 "nbformat": 4,
 "nbformat_minor": 2
}
