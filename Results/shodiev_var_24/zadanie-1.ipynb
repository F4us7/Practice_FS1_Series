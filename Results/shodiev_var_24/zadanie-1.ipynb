{
 "cells": [
  {
   "cell_type": "code",
   "execution_count": 10,
   "metadata": {},
   "outputs": [],
   "source": [
    "from math import asinh\n",
    "\n",
    "# точная сумма\n",
    "def exact_sum(x):\n",
    "    return x * asinh(1/x)\n",
    "\n",
    "\n",
    "def calculate_coefficient(N,x):\n",
    "    a=1\n",
    "    for i in range(N):\n",
    "        nomerator = (-1) * (2*i+1)**2 * (2*i+2) * x**(-2)\n",
    "        denominator = 4 * (2*i + 3) * (i+1)**2\n",
    "        c = nomerator/denominator\n",
    "        a = a * c\n",
    "    return a\n",
    "\n",
    "# Наивное суммированые \n",
    "def partial_sum(N,x):\n",
    "    result = 0\n",
    "    for n in range(N):\n",
    "        result += calculate_coefficient(n,x)\n",
    "    return result\n",
    "\n",
    "# Поиск n\n",
    "def find_n(x,precision):\n",
    "    n = 0\n",
    "    while abs(calculate_coefficient(n,x)) > precision:\n",
    "        n += 1\n",
    "    return n\n",
    "\n",
    "# Сумма по алгоритму Кэхена\n",
    "def Kahan_sum(N,x):\n",
    "    sum = 0.0\n",
    "    c = 0.0   # compensation\n",
    "    for n in range(N):\n",
    "        y = calculate_coefficient(n,x) - c\n",
    "        t = sum + y\n",
    "        c = (t - sum) - y\n",
    "        sum = t\n",
    "    return sum\n",
    "\n",
    "# Сумма по возрастанию слагаемых\n",
    "def increasing_sum(n,x):\n",
    "    a=[]\n",
    "    for i in range(n):\n",
    "        a.append(calculate_coefficient(i,x))\n",
    "    summ=0\n",
    "    for i in range(n - 1):\n",
    "        for j in range(n - 1 - i):\n",
    "            if a[j] > a[j + 1]:\n",
    "                a[j],a[j+1] = a[j+1],a[j]\n",
    "\n",
    "    for i in range(n):\n",
    "        summ+=a[i]\n",
    "    return summ"
   ]
  },
  {
   "cell_type": "markdown",
   "metadata": {},
   "source": [
    "Для первой точки"
   ]
  },
  {
   "cell_type": "code",
   "execution_count": 11,
   "metadata": {},
   "outputs": [
    {
     "name": "stdout",
     "output_type": "stream",
     "text": [
      "Количество слагаемых n: 3\n",
      "exact_sum_1   : 0.999983334083289\n",
      "naive_sum_1   : 0.999983334083333\n",
      "increas_sum_1 : 0.999983334083333\n",
      "Kahan_sum_1   : 0.999983334083333\n"
     ]
    }
   ],
   "source": [
    "x1 = 100\n",
    "n1 = find_n(x1,10**(-12))\n",
    "print(\"Количество слагаемых n:\", n1)\n",
    "print(f\"exact_sum_1   : {'{:.15f}'.format(exact_sum(x1))}\")\n",
    "print(f\"naive_sum_1   : {'{:.15f}'.format(partial_sum(n1,x1))}\")\n",
    "print(f\"increas_sum_1 : {'{:.15f}'.format(increasing_sum(n1,x1))}\")\n",
    "print(f\"Kahan_sum_1   : {'{:.15f}'.format(Kahan_sum(n1,x1))}\")"
   ]
  },
  {
   "cell_type": "code",
   "execution_count": 12,
   "metadata": {},
   "outputs": [
    {
     "name": "stdout",
     "output_type": "stream",
     "text": [
      "Отклонение от точного значения : 0.000000000000045\n",
      "Отклонение от точного значения : 0.000000000000045\n",
      "Отклонение от точного значения : 0.000000000000045\n"
     ]
    }
   ],
   "source": [
    "print(\"Отклонение от точного значения :\", '{:.15f}'.format(abs(exact_sum(x1)-partial_sum(n1,x1))))\n",
    "print(\"Отклонение от точного значения :\", '{:.15f}'.format(abs(exact_sum(x1)-increasing_sum(n1,x1))))\n",
    "print(\"Отклонение от точного значения :\", '{:.15f}'.format(abs(exact_sum(x1)-Kahan_sum(n1,x1))))"
   ]
  },
  {
   "cell_type": "markdown",
   "metadata": {},
   "source": [
    "Для второй точки"
   ]
  },
  {
   "cell_type": "code",
   "execution_count": 13,
   "metadata": {},
   "outputs": [
    {
     "name": "stdout",
     "output_type": "stream",
     "text": [
      "Количество слагаемых n: 93\n",
      "exact_sum_2    : 0.898741039614203\n",
      "naive_sum_2    : 0.898741039614739\n",
      "increas_sum_2  : 0.898741039614739\n",
      "Kahan_sum_2    : 0.898741039614739\n"
     ]
    }
   ],
   "source": [
    "x2 = 10/9\n",
    "n2 = find_n(x2,10**(-12))\n",
    "print(\"Количество слагаемых n:\", n2)\n",
    "print(f\"exact_sum_2    : {'{:.15f}'.format(exact_sum(x2))}\")\n",
    "print(f\"naive_sum_2    : {'{:.15f}'.format(partial_sum(n2,x2))}\")\n",
    "print(f\"increas_sum_2  : {'{:.15f}'.format(increasing_sum(n2,x2))}\")\n",
    "print(f\"Kahan_sum_2    : {'{:.15f}'.format(Kahan_sum(n2,x2))}\")"
   ]
  },
  {
   "cell_type": "code",
   "execution_count": 14,
   "metadata": {},
   "outputs": [
    {
     "name": "stdout",
     "output_type": "stream",
     "text": [
      "Отклонение от точного значения : 0.000000000000537\n",
      "Отклонение от точного значения : 0.000000000000536\n",
      "Отклонение от точного значения : 0.000000000000536\n"
     ]
    }
   ],
   "source": [
    "print(\"Отклонение от точного значения :\", '{:.15f}'.format(abs(exact_sum(x2)-partial_sum(n2,x2))))\n",
    "print(\"Отклонение от точного значения :\", '{:.15f}'.format(abs(exact_sum(x2)-increasing_sum(n2,x2))))\n",
    "print(\"Отклонение от точного значения :\", '{:.15f}'.format(abs(exact_sum(x2)-Kahan_sum(n2,x2))))"
   ]
  },
  {
   "cell_type": "code",
   "execution_count": 15,
   "metadata": {},
   "outputs": [
    {
     "name": "stdout",
     "output_type": "stream",
     "text": [
      "-0.13499999999999998\n",
      "0.04920749999999999\n",
      "-0.023725044642857133\n",
      "0.013078430859374995\n",
      "-0.007800689533487211\n",
      "0.004900933212673599\n",
      "-0.00319470832134709\n",
      "0.0021405720278143644\n",
      "-0.0014651652221960953\n",
      "0.0010200689586246671\n",
      "-0.0007201162701784928\n",
      "0.0005142710343479705\n",
      "-0.0003708685343855556\n",
      "0.0002696972424499097\n",
      "-0.00019754888013903546\n",
      "0.00014561934070930548\n",
      "-0.00010794064222375737\n",
      "8.04084851700625e-05\n",
      "-6.016475379232835e-05\n",
      "4.519730385346734e-05\n",
      "-3.407591411955684e-05\n",
      "2.5775331221070244e-05\n",
      "-1.9555035631526584e-05\n",
      "1.4876543241978827e-05\n",
      "-1.1345901985267781e-05\n",
      "8.673316314071847e-06\n",
      "-6.644548779880313e-06\n",
      "5.1005030225256075e-06\n",
      "-3.92254319092648e-06\n",
      "3.021869400701697e-06\n",
      "-2.3317830497718694e-06\n",
      "1.8020254829041068e-06\n",
      "-1.394613683597598e-06\n",
      "1.0807631860171333e-06\n",
      "-8.386048205610327e-07\n",
      "6.514839401375599e-07\n",
      "-5.066889932908785e-07\n",
      "3.9449790254298783e-07\n",
      "-3.07460602399168e-07\n",
      "2.3985770244665096e-07\n",
      "-1.8729094511600152e-07\n",
      "1.4637259522862028e-07\n",
      "-1.1448931040185685e-07\n",
      "8.962223802983148e-08\n",
      "-7.020966732866655e-08\n",
      "5.504196665152373e-08\n",
      "-4.318107002809779e-08\n",
      "3.389867022904874e-08\n",
      "-2.662869474643855e-08\n",
      "2.0930707736631073e-08\n",
      "-1.6461684865154444e-08\n",
      "1.295421537865229e-08\n",
      "-1.0199645731370975e-08\n",
      "8.035028255399056e-09\n",
      "-6.333003953230213e-09\n",
      "4.99395091523997e-09\n",
      "-3.939884437965395e-09\n",
      "3.1097131646474216e-09\n",
      "-2.455546178877327e-09\n",
      "1.93981552656035e-09\n",
      "-1.5330320998760338e-09\n",
      "1.2120339701683777e-09\n",
      "-9.586179811863224e-10\n",
      "7.584699024363431e-10\n",
      "-6.003273689735161e-10\n",
      "4.753244795484822e-10\n",
      "-3.764782709880493e-10\n",
      "2.9828608608272487e-10\n",
      "-2.364096838309976e-10\n",
      "1.874272500532903e-10\n",
      "-1.4863859638681502e-10\n",
      "1.179120513690768e-10\n",
      "-9.356405334210327e-11\n",
      "7.426440954209607e-11\n",
      "-5.896171154780136e-11\n",
      "4.6824589260885326e-11\n",
      "-3.719541751598376e-11\n",
      "2.955381854137771e-11\n",
      "-2.348787434572882e-11\n",
      "1.867141034863509e-11\n",
      "-1.484606219775982e-11\n",
      "1.1807112767595984e-11\n",
      "-9.392302233937613e-12\n",
      "7.472983684553809e-12\n",
      "-5.947129978733349e-12\n",
      "4.7338023404891416e-12\n",
      "-3.768773592817228e-12\n",
      "3.0010638140993314e-12\n",
      "-2.390197284158356e-12\n",
      "1.904029836009561e-12\n",
      "-1.5170274539296966e-12\n",
      "1.2089019755513455e-12\n",
      "-9.635294920282988e-13\n"
     ]
    }
   ],
   "source": [
    "n = 0\n",
    "while abs(calculate_coefficient(n,x2)) > 10**(-12):\n",
    "    n+=1\n",
    "    print(calculate_coefficient(n,x2))"
   ]
  }
 ],
 "metadata": {
  "kernelspec": {
   "display_name": "Python 3",
   "language": "python",
   "name": "python3"
  },
  "language_info": {
   "codemirror_mode": {
    "name": "ipython",
    "version": 3
   },
   "file_extension": ".py",
   "mimetype": "text/x-python",
   "name": "python",
   "nbconvert_exporter": "python",
   "pygments_lexer": "ipython3",
   "version": "3.11.5"
  }
 },
 "nbformat": 4,
 "nbformat_minor": 2
}
