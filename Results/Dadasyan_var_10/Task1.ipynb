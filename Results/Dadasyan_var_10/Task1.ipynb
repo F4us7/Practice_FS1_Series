{
 "cells": [
  {
   "cell_type": "code",
   "execution_count": 29,
   "metadata": {},
   "outputs": [],
   "source": [
    "import numpy as np\n",
    "import math\n",
    "\n",
    "def fac(n):\n",
    "    x = 1\n",
    "    if n%2 == 0:\n",
    "        for i in range(1,(n//2)+1):\n",
    "            x *= 2*i\n",
    "        return x\n",
    "    else:\n",
    "        for i in range(((n-1)//2)+1):\n",
    "            x *= 2*i + 1\n",
    "        return x"
   ]
  },
  {
   "cell_type": "markdown",
   "metadata": {},
   "source": [
    "x = 10"
   ]
  },
  {
   "cell_type": "code",
   "execution_count": 30,
   "metadata": {},
   "outputs": [
    {
     "name": "stdout",
     "output_type": "stream",
     "text": [
      "0.5298342365610589\n"
     ]
    }
   ],
   "source": [
    "x = 10\n",
    "res = np.arcsinh(100)/10\n",
    "print(res)"
   ]
  },
  {
   "cell_type": "code",
   "execution_count": 31,
   "metadata": {},
   "outputs": [
    {
     "name": "stdout",
     "output_type": "stream",
     "text": [
      "[-2.5e-06, 9.375e-11, -5.2083333333333335e-15]\n"
     ]
    }
   ],
   "source": [
    "coefficients = []\n",
    "coefficient = 1\n",
    "n = 0\n",
    "\n",
    "while abs(coefficient) >= 1e-12:\n",
    "    n += 1\n",
    "    coefficient = ((-1)**n)*fac(2*n-1)/(2*n*(fac(2*n))*pow(x,4*n+1))\n",
    "    coefficients.append(coefficient)\n",
    "\n",
    "print(coefficients)"
   ]
  },
  {
   "cell_type": "code",
   "execution_count": 32,
   "metadata": {},
   "outputs": [],
   "source": [
    "sum = math.log(2*x*x)/x\n",
    "for i in range(n):\n",
    "    sum -= coefficients[i]"
   ]
  },
  {
   "cell_type": "code",
   "execution_count": 33,
   "metadata": {},
   "outputs": [],
   "source": [
    "kahan = 0 \n",
    "c = 0\n",
    "for i in range(n):\n",
    "    y = coefficients[i]-c\n",
    "    t = kahan + y\n",
    "    z = t - kahan\n",
    "    c = z - y\n",
    "    kahan = t\n",
    "kahan =  math.log(2*x*x)/x - kahan"
   ]
  },
  {
   "cell_type": "code",
   "execution_count": 34,
   "metadata": {},
   "outputs": [],
   "source": [
    "ordered_summ = math.log(2*x*x)/x\n",
    "for i in range(n-1):\n",
    "    for j in range(n-1-i):\n",
    "        if coefficients[j] > coefficients[j+1]:\n",
    "            b = coefficients[j]\n",
    "            coefficients[j] = coefficients[j+1]\n",
    "            coefficients[j+1] = b\n",
    "for i in range(n):\n",
    "    ordered_summ -= coefficients[i]"
   ]
  },
  {
   "cell_type": "code",
   "execution_count": 35,
   "metadata": {},
   "outputs": [
    {
     "name": "stdout",
     "output_type": "stream",
     "text": [
      "\n",
      "x:  10,   n:  3.\n",
      "ln(2x*x)/x:       0.529834236561058879999563941965 \n",
      "Naive = 0.529834236561058879999563941965, \n",
      "prec - 0.000000000000000000000000000000\n",
      "Ordered = 0.529834236561058879999563941965, \n",
      "prec - 0.000000000000000000000000000000\n",
      "Kahan = 0.529834236561058879999563941965, \n",
      "prec - 0.000000000000000000000000000000\n",
      "\n"
     ]
    }
   ],
   "source": [
    "print(f'''\n",
    "x:  {x},   n:  {n}.\n",
    "ln(2x*x)/x:       {res:.30f} \n",
    "Naive = {sum:.30f}, \n",
    "prec - {(sum-res):.30f}\n",
    "Ordered = {ordered_summ:.30f}, \n",
    "prec - {(ordered_summ-res):.30f}\n",
    "Kahan = {kahan:.30f}, \n",
    "prec - {(kahan-res):.30f}\n",
    "''')"
   ]
  },
  {
   "cell_type": "markdown",
   "metadata": {},
   "source": [
    "x = $\\frac{3}{2\\sqrt{2}}$"
   ]
  },
  {
   "cell_type": "code",
   "execution_count": 36,
   "metadata": {},
   "outputs": [
    {
     "name": "stdout",
     "output_type": "stream",
     "text": [
      "0.9117525641229342\n"
     ]
    }
   ],
   "source": [
    "x = 3/(2*np.sqrt(2))\n",
    "res = np.arcsinh(9/8)/x\n",
    "print(res)"
   ]
  },
  {
   "cell_type": "code",
   "execution_count": 37,
   "metadata": {},
   "outputs": [
    {
     "name": "stdout",
     "output_type": "stream",
     "text": [
      "[-0.18623388475695088, 0.05518041029835583, -0.024221853628907917, 0.012559479659433739, -0.007144948428477864, 0.00431245172637896, -0.002711987782575431, 0.0017577698590766687, -0.0011659525113095054, 0.0007876656965290885, -0.0005400585124656133, 0.00037485542840548757, -0.0002628834913209644, 0.00018598559930190685, -0.0001325829852472085, 9.514056811720982e-05, -6.866995766194104e-05, 4.9819996718615986e-05, -3.631078862101653e-05, 2.6574117894492105e-05, -1.9520865976637637e-05, 1.4388198736376938e-05, -1.0637777683689735e-05, 7.887131465067633e-06, -5.862884568759017e-06, 4.368574958093506e-06, -3.262319113822271e-06, 2.441191173608503e-06, -1.8302214532748125e-06, 1.3745992456749328e-06, -1.0341148215814814e-06, 7.791767926499358e-07, -5.879446237773894e-07, 4.4425496626829285e-07, -3.361159871775591e-07, 2.54610037535813e-07, -1.9309116067970433e-07, 1.465963464686378e-07, -1.1141231899539371e-07, 8.475589008019955e-08, -6.453750107237089e-08, 4.9185883071420885e-08, -3.751774587584296e-08, 2.8640727950521084e-08, -2.1880974857099217e-08, 1.6728995689947738e-08, -1.279911358120308e-08, 9.799047006185148e-09, -7.507055247276279e-09, 5.754741729112058e-09, -4.414096493867548e-09, 3.3877199039062367e-09, -2.6014372744155593e-09, 1.9987130394364877e-09, -1.5364211749982304e-09, 1.1816391122907787e-09, -9.092149671216351e-10, 6.999197439241726e-10, -5.390425350762056e-10, 4.1532155157970264e-10, -3.2013000243196457e-10, 2.468555551184626e-10, -1.9042697470015693e-10, 1.4695276085802048e-10, -1.1344508377997566e-10, 8.760873728408599e-11, -6.767968853397642e-11, 5.230148940918594e-11, -4.0430611918212136e-11, 3.126389509962793e-11, -2.4182906654976086e-11, 1.8711252192346616e-11, -1.4481801492460678e-11, 1.1211515069346507e-11, -8.6820988421348e-12, 6.725130425578922e-12, -5.210618097770563e-12, 4.038196248205238e-12, -3.1303467910861947e-12, 2.4271781507922035e-12, -1.8824022734988734e-12, 1.460233530423874e-12, -1.1329973339718905e-12, 8.792853529399728e-13]\n"
     ]
    }
   ],
   "source": [
    "coefficients = []\n",
    "coefficient = 1\n",
    "n = 0\n",
    "\n",
    "while abs(coefficient) >= 1e-12:\n",
    "    n += 1\n",
    "    coefficient = ((-1)**n)*fac(2*n-1)/(2*n*(fac(2*n))*pow(x,4*n+1))\n",
    "    coefficients.append(coefficient)\n",
    "\n",
    "print(coefficients)"
   ]
  },
  {
   "cell_type": "code",
   "execution_count": 38,
   "metadata": {},
   "outputs": [
    {
     "data": {
      "text/plain": [
       "84"
      ]
     },
     "execution_count": 38,
     "metadata": {},
     "output_type": "execute_result"
    }
   ],
   "source": [
    "n"
   ]
  },
  {
   "cell_type": "code",
   "execution_count": 39,
   "metadata": {},
   "outputs": [],
   "source": [
    "sum = math.log(2*x*x)/x\n",
    "for i in range(n):\n",
    "    sum -= coefficients[i]"
   ]
  },
  {
   "cell_type": "code",
   "execution_count": 40,
   "metadata": {},
   "outputs": [],
   "source": [
    "kahan = 0 \n",
    "c = 0\n",
    "for i in range(n):\n",
    "    y = coefficients[i]-c\n",
    "    t = kahan + y\n",
    "    z = t - kahan\n",
    "    c = z - y\n",
    "    kahan = t\n",
    "kahan =  math.log(2*x*x)/x - kahan"
   ]
  },
  {
   "cell_type": "code",
   "execution_count": 41,
   "metadata": {},
   "outputs": [],
   "source": [
    "ordered_summ = math.log(2*x*x)/x\n",
    "for i in range(n-1):\n",
    "    for j in range(n-1-i):\n",
    "        if coefficients[j] > coefficients[j+1]:\n",
    "            b = coefficients[j]\n",
    "            coefficients[j] = coefficients[j+1]\n",
    "            coefficients[j+1] = b\n",
    "for i in range(n):\n",
    "    ordered_summ -= coefficients[i]"
   ]
  },
  {
   "cell_type": "code",
   "execution_count": 42,
   "metadata": {},
   "outputs": [
    {
     "name": "stdout",
     "output_type": "stream",
     "text": [
      "\n",
      "x:  1.0606601717798212,   n:  84.\n",
      "ln(2x*x)/x:       0.911752564122934150425692223507 \n",
      "Just sum = 0.911752564122549680192264531797, \n",
      "prec - -0.000000000000384470233427691710\n",
      "Ordered = 0.911752564122549680192264531797, \n",
      "prec - -0.000000000000384470233427691710\n",
      "Kahan = 0.911752564122549791214566994313, \n",
      "prec - -0.000000000000384359211125229194\n",
      "\n"
     ]
    }
   ],
   "source": [
    "print(f'''\n",
    "x:  {x},   n:  {n}.\n",
    "ln(2x*x)/x:       {res:.30f} \n",
    "Just sum = {sum:.30f}, \n",
    "prec - {(sum-res):.30f}\n",
    "Ordered = {ordered_summ:.30f}, \n",
    "prec - {(ordered_summ-res):.30f}\n",
    "Kahan = {kahan:.30f}, \n",
    "prec - {(kahan-res):.30f}\n",
    "''')"
   ]
  }
 ],
 "metadata": {
  "kernelspec": {
   "display_name": "Python 3",
   "language": "python",
   "name": "python3"
  },
  "language_info": {
   "codemirror_mode": {
    "name": "ipython",
    "version": 3
   },
   "file_extension": ".py",
   "mimetype": "text/x-python",
   "name": "python",
   "nbconvert_exporter": "python",
   "pygments_lexer": "ipython3",
   "version": "3.11.3"
  }
 },
 "nbformat": 4,
 "nbformat_minor": 2
}
