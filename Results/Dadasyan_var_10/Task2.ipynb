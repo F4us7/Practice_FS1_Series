{
 "cells": [
  {
   "cell_type": "code",
   "execution_count": 29,
   "metadata": {},
   "outputs": [],
   "source": [
    "import pandas as pd\n",
    "import math\n",
    "\n",
    "def to_row(x):\n",
    "    coefficients = []\n",
    "    coefficient = 1\n",
    "    s1 = 0\n",
    "    s2 = 0\n",
    "    n = -1\n",
    "    while abs(coefficient) >= 1e-8:\n",
    "        n += 1\n",
    "        coefficient = ((-1)**n)*(x**(2*n))/((math.factorial(n)**2)*(4**n))\n",
    "        coefficients.append(coefficient)\n",
    "\n",
    "        if n > 99:\n",
    "            break\n",
    "\n",
    "    for i in range(n):\n",
    "        s1 += coefficients[i]\n",
    "\n",
    "    for i in range(n-1):\n",
    "        for j in range(n-1-i):\n",
    "            if coefficients[j] > coefficients[j+1]:\n",
    "                b = coefficients[j]\n",
    "                coefficients[j] = coefficients[j+1]\n",
    "                coefficients[j+1] = b\n",
    "\n",
    "    for i in range(n):\n",
    "        s2 += coefficients[i]\n",
    "\n",
    "    res = ['{:.15f}'.format(x),'{:.15f}'.format(n),'{:.15f}'.format(s1),'{:.15f}'.format(s2)]\n",
    "\n",
    "    return res"
   ]
  },
  {
   "cell_type": "code",
   "execution_count": 30,
   "metadata": {},
   "outputs": [],
   "source": [
    "out = pd.DataFrame(columns=['x','n','s1','s2'])\n",
    "dist = 0.2\n",
    "a = -20\n",
    "b = 0\n",
    "z = a\n",
    "while z<=b:\n",
    "    out.loc[len(out)] = to_row(z)\n",
    "    z += dist\n",
    "out['s1']=out['s1'].astype(float)\n",
    "out['s2']=out['s2'].astype(float)\n",
    "out.to_csv('out.csv')"
   ]
  },
  {
   "cell_type": "markdown",
   "metadata": {},
   "source": [
    "n=100 нигде не достигается, значит, на указанном отрезке ряд сходится быстро, а вычисления точны. Несмотря на точность вычислений, после восьмого знака две суммы часто различаются"
   ]
  }
 ],
 "metadata": {
  "kernelspec": {
   "display_name": "Python 3",
   "language": "python",
   "name": "python3"
  },
  "language_info": {
   "codemirror_mode": {
    "name": "ipython",
    "version": 3
   },
   "file_extension": ".py",
   "mimetype": "text/x-python",
   "name": "python",
   "nbconvert_exporter": "python",
   "pygments_lexer": "ipython3",
   "version": "3.11.3"
  }
 },
 "nbformat": 4,
 "nbformat_minor": 2
}
